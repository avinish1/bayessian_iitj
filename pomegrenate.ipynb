{
 "cells": [
  {
   "cell_type": "code",
   "execution_count": 52,
   "id": "7755b6c9-b772-48c7-ad7c-967e0a20b7cd",
   "metadata": {},
   "outputs": [],
   "source": [
    "import yaml\n",
    "from pomegranate import bayesian_network\n",
    "from pomegranate.distributions import Normal, Exponential\n",
    "\n",
    "# Define the function to parse the YAML and build the network\n",
    "def build_pomegranate_network(yaml_data):\n",
    "    # Create a dictionary to store the states (variables) by their names\n",
    "    states = {}\n",
    "\n",
    "    # Initialize the Bayesian Network\n",
    "    network = bayesian_network.BayesianNetwork()\n",
    "\n",
    "    # First pass: Create distributions and add states to the network\n",
    "    for var in yaml_data['variables']:\n",
    "        var_name = var['name']\n",
    "        var_type = var['type']\n",
    "        distribution_type = var['distribution']\n",
    "        parameters = var['parameters']\n",
    "\n",
    "        # Create the distribution based on the type\n",
    "        if distribution_type == 'Gaussian':\n",
    "            dist = Normal([parameters['mean']],\n",
    "                          [parameters['std_dev']],\n",
    "                          covariance_type='diag')\n",
    "        elif distribution_type == 'Exponential':\n",
    "            dist = Exponential([parameters['mean']])\n",
    "            raise ValueError(f\"Unsupported distribution type: {distribution_type}\")\n",
    "\n",
    "        # Create the state for the variable and add it to the network\n",
    "        state = State(dist, name=var_name)\n",
    "        states[var_name] = state\n",
    "        network.add_state(state)\n",
    "\n",
    "    # Second pass: Set up relationships (edges) based on parent-child dependencies\n",
    "    for var in yaml_data['variables']:\n",
    "        var_name = var['name']\n",
    "        parents = var.get('parents', None)\n",
    "\n",
    "        if parents:\n",
    "        # For each parent-child relationship\n",
    "            for parent in parents:\n",
    "                parent_name = parent['variable']\n",
    "                parent_relationship_type = parent['relationship_type']\n",
    "                parent_coefficients = parent['coefficients']\n",
    "    \n",
    "                if parent_relationship_type == 'linear':\n",
    "                    # Linear relationship: Linear Gaussian Distribution\n",
    "                    intercept = parent_coefficients.get('intercept', 0.0)\n",
    "                    slope = parent_coefficients.get('slope', 0.0)\n",
    "                    dist = LinearGaussianDistribution(\n",
    "                        intercept=intercept,\n",
    "                        slope=slope,\n",
    "                        mean=0.0,  # These can be adjusted based on your specific model\n",
    "                        std=1.0\n",
    "                    )\n",
    "                    state = State(dist, name=f\"{parent_name}_to_{var_name}\")\n",
    "                    network.add_state(state)\n",
    "                    network.add_edge(states[parent_name], state)\n",
    "                    network.add_edge(state, states[var_name])\n",
    "    \n",
    "                elif parent_relationship_type == 'exponential':\n",
    "                    # Exponential relationship: Use ExponentialDistribution\n",
    "                    a = parent_coefficients.get('a', 1.0)\n",
    "                    b = parent_coefficients.get('b', 0.02)\n",
    "                    dist = ExponentialDistribution(a)  # Exponential distribution, parameterized by a\n",
    "                    state = State(dist, name=f\"{parent_name}_to_{var_name}\")\n",
    "                    network.add_state(state)\n",
    "                    network.add_edge(states[parent_name], state)\n",
    "                    network.add_edge(state, states[var_name])\n",
    "    \n",
    "                else:\n",
    "                    raise ValueError(f\"Unsupported relationship type: {parent_relationship_type}\")\n",
    "\n",
    "    # Bake the network to finalize its structure\n",
    "    network.bake()\n",
    "\n",
    "    return network"
   ]
  },
  {
   "cell_type": "code",
   "execution_count": 53,
   "id": "d9887bae-2816-441f-869f-ffd762e47d41",
   "metadata": {},
   "outputs": [],
   "source": [
    "# Load your YAML file (Assume it's loaded as a dictionary)\n",
    "yaml_file = 'config.yaml'\n",
    "with open(yaml_file, 'r') as file:\n",
    "    yaml_data = yaml.safe_load(file)"
   ]
  },
  {
   "cell_type": "code",
   "execution_count": 54,
   "id": "33c06f65-b482-4793-ae8a-6cda48faec6a",
   "metadata": {},
   "outputs": [
    {
     "ename": "NameError",
     "evalue": "name 'State' is not defined",
     "output_type": "error",
     "traceback": [
      "\u001b[0;31m---------------------------------------------------------------------------\u001b[0m",
      "\u001b[0;31mNameError\u001b[0m                                 Traceback (most recent call last)",
      "Cell \u001b[0;32mIn[54], line 2\u001b[0m\n\u001b[1;32m      1\u001b[0m \u001b[38;5;66;03m# Build the network from the YAML data\u001b[39;00m\n\u001b[0;32m----> 2\u001b[0m network \u001b[38;5;241m=\u001b[39m \u001b[43mbuild_pomegranate_network\u001b[49m\u001b[43m(\u001b[49m\u001b[43myaml_data\u001b[49m\u001b[43m)\u001b[49m\n",
      "Cell \u001b[0;32mIn[52], line 30\u001b[0m, in \u001b[0;36mbuild_pomegranate_network\u001b[0;34m(yaml_data)\u001b[0m\n\u001b[1;32m     27\u001b[0m     \u001b[38;5;28;01mraise\u001b[39;00m \u001b[38;5;167;01mValueError\u001b[39;00m(\u001b[38;5;124mf\u001b[39m\u001b[38;5;124m\"\u001b[39m\u001b[38;5;124mUnsupported distribution type: \u001b[39m\u001b[38;5;132;01m{\u001b[39;00mdistribution_type\u001b[38;5;132;01m}\u001b[39;00m\u001b[38;5;124m\"\u001b[39m)\n\u001b[1;32m     29\u001b[0m \u001b[38;5;66;03m# Create the state for the variable and add it to the network\u001b[39;00m\n\u001b[0;32m---> 30\u001b[0m state \u001b[38;5;241m=\u001b[39m \u001b[43mState\u001b[49m(dist, name\u001b[38;5;241m=\u001b[39mvar_name)\n\u001b[1;32m     31\u001b[0m states[var_name] \u001b[38;5;241m=\u001b[39m state\n\u001b[1;32m     32\u001b[0m network\u001b[38;5;241m.\u001b[39madd_state(state)\n",
      "\u001b[0;31mNameError\u001b[0m: name 'State' is not defined"
     ]
    }
   ],
   "source": [
    "# Build the network from the YAML data\n",
    "network = build_pomegranate_network(yaml_data)"
   ]
  },
  {
   "cell_type": "code",
   "execution_count": 22,
   "id": "7d2e77f7-a0c3-43e8-8ef4-77dd47ca6e05",
   "metadata": {},
   "outputs": [],
   "source": [
    "from pomegranate."
   ]
  },
  {
   "cell_type": "code",
   "execution_count": 48,
   "id": "aed6e560-aba9-4833-9f57-047332d0e1d8",
   "metadata": {},
   "outputs": [],
   "source": [
    "x = Normal([yaml_data['variables'][0]['parameters']['mean']],\n",
    "           [yaml_data['variables'][0]['parameters']['std_dev']],\n",
    "           covariance_type='diag')"
   ]
  },
  {
   "cell_type": "code",
   "execution_count": 51,
   "id": "08d46798-cb95-4075-8e19-fff8d12f2a05",
   "metadata": {},
   "outputs": [
    {
     "data": {
      "text/plain": [
       "Parameter containing:\n",
       "tensor([3])"
      ]
     },
     "execution_count": 51,
     "metadata": {},
     "output_type": "execute_result"
    }
   ],
   "source": [
    "x.covs"
   ]
  },
  {
   "cell_type": "code",
   "execution_count": 55,
   "id": "6f255dc5-80bb-4ddd-9e1c-1f677f0bf649",
   "metadata": {},
   "outputs": [],
   "source": [
    "from pomegranate import *"
   ]
  },
  {
   "cell_type": "code",
   "execution_count": 61,
   "id": "e9cba205-17c1-400d-a95b-8c1a3639e7c3",
   "metadata": {},
   "outputs": [
    {
     "ename": "ValueError",
     "evalue": "Must be Categorical or ConditionalCategorical",
     "output_type": "error",
     "traceback": [
      "\u001b[0;31m---------------------------------------------------------------------------\u001b[0m",
      "\u001b[0;31mValueError\u001b[0m                                Traceback (most recent call last)",
      "Cell \u001b[0;32mIn[61], line 2\u001b[0m\n\u001b[1;32m      1\u001b[0m net \u001b[38;5;241m=\u001b[39m bayesian_network\u001b[38;5;241m.\u001b[39mBayesianNetwork()\n\u001b[0;32m----> 2\u001b[0m \u001b[43mnet\u001b[49m\u001b[38;5;241;43m.\u001b[39;49m\u001b[43madd_distribution\u001b[49m\u001b[43m(\u001b[49m\u001b[43mx\u001b[49m\u001b[43m)\u001b[49m\n",
      "File \u001b[0;32m~/.pyenv/versions/mtp/lib/python3.8/site-packages/pomegranate/bayesian_network.py:171\u001b[0m, in \u001b[0;36mBayesianNetwork.add_distribution\u001b[0;34m(self, distribution)\u001b[0m\n\u001b[1;32m    156\u001b[0m \u001b[38;5;250m\u001b[39m\u001b[38;5;124;03m\"\"\"Adds a distribution to the set of distributions.\u001b[39;00m\n\u001b[1;32m    157\u001b[0m \n\u001b[1;32m    158\u001b[0m \u001b[38;5;124;03mAdds a distribution to the set of distributions being stored in the\u001b[39;00m\n\u001b[0;32m   (...)\u001b[0m\n\u001b[1;32m    167\u001b[0m \u001b[38;5;124;03m\tCategorical or a ConditionalCategorical distribution.\u001b[39;00m\n\u001b[1;32m    168\u001b[0m \u001b[38;5;124;03m\"\"\"\u001b[39;00m\n\u001b[1;32m    170\u001b[0m \u001b[38;5;28;01mif\u001b[39;00m \u001b[38;5;129;01mnot\u001b[39;00m \u001b[38;5;28misinstance\u001b[39m(distribution, (Categorical, ConditionalCategorical)):\n\u001b[0;32m--> 171\u001b[0m \t\u001b[38;5;28;01mraise\u001b[39;00m \u001b[38;5;167;01mValueError\u001b[39;00m(\u001b[38;5;124m\"\u001b[39m\u001b[38;5;124mMust be Categorical or ConditionalCategorical\u001b[39m\u001b[38;5;124m\"\u001b[39m)\n\u001b[1;32m    173\u001b[0m \u001b[38;5;28mself\u001b[39m\u001b[38;5;241m.\u001b[39mdistributions\u001b[38;5;241m.\u001b[39mappend(distribution)\n\u001b[1;32m    174\u001b[0m \u001b[38;5;28mself\u001b[39m\u001b[38;5;241m.\u001b[39md \u001b[38;5;241m+\u001b[39m\u001b[38;5;241m=\u001b[39m \u001b[38;5;241m1\u001b[39m\n",
      "\u001b[0;31mValueError\u001b[0m: Must be Categorical or ConditionalCategorical"
     ]
    }
   ],
   "source": [
    "net = bayesian_network.BayesianNetwork()\n",
    "net.add_distribution(x)"
   ]
  },
  {
   "cell_type": "code",
   "execution_count": null,
   "id": "4abf6dde-98af-44cf-a63c-f713100f4da2",
   "metadata": {},
   "outputs": [],
   "source": []
  }
 ],
 "metadata": {
  "kernelspec": {
   "display_name": "mtp",
   "language": "python",
   "name": "mtp"
  },
  "language_info": {
   "codemirror_mode": {
    "name": "ipython",
    "version": 3
   },
   "file_extension": ".py",
   "mimetype": "text/x-python",
   "name": "python",
   "nbconvert_exporter": "python",
   "pygments_lexer": "ipython3",
   "version": "3.8.12"
  }
 },
 "nbformat": 4,
 "nbformat_minor": 5
}
