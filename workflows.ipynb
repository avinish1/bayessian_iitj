{
 "cells": [
  {
   "cell_type": "code",
   "execution_count": 1,
   "id": "7bc5a3f7-ae8b-40ed-821b-95cefcb85088",
   "metadata": {},
   "outputs": [
    {
     "name": "stderr",
     "output_type": "stream",
     "text": [
      "/home/avinish/.pyenv/versions/mtp/lib/python3.8/site-packages/tqdm/auto.py:21: TqdmWarning: IProgress not found. Please update jupyter and ipywidgets. See https://ipywidgets.readthedocs.io/en/stable/user_install.html\n",
      "  from .autonotebook import tqdm as notebook_tqdm\n"
     ]
    }
   ],
   "source": [
    "from config_parser import ConfigParser\n",
    "from bayesian_network import BayesianNetworkModel\n",
    "from simulation import MonteCarloSimulation\n",
    "from optimization import Optimizer\n",
    "\n",
    "# Load configuration\n",
    "parser = ConfigParser(\"config.yaml\")\n",
    "variables = parser.get_variable_data()"
   ]
  },
  {
   "cell_type": "code",
   "execution_count": 2,
   "id": "80c8074d-af06-4283-80d8-dd3af3b0ba0c",
   "metadata": {},
   "outputs": [
    {
     "data": {
      "text/plain": [
       "[Variable(name='faculty_hours', type='continuous', distribution='Gaussian', parameters={'mean': 40.0, 'std_dev': 3.0}, cpd=None),\n",
       " Variable(name='faculty_satisfaction', type='continuous', distribution='Gaussian', parameters={'mean': 60.0, 'std_dev': 10.0}, cpd=CPD(parents=[ParentRelationship(name='faculty_hours', relationship_type='exponential', coefficients={'a': 60.0, 'b': -0.02})], values=None)),\n",
       " Variable(name='student_satisfaction', type='continuous', distribution='Gaussian', parameters={'mean': 70.0, 'std_dev': 15.0}, cpd=CPD(parents=[ParentRelationship(name='faculty_hours', relationship_type='linear', coefficients={'intercept': 50.0, 'slope': -0.5}), ParentRelationship(name='faculty_satisfaction', relationship_type='linear', coefficients={'intercept': 70.0, 'slope': 0.3})], values=None)),\n",
       " Variable(name='research_output', type='mixed', distribution='LinearGaussian', parameters={'coefficients': [-2.0, 0.7]}, cpd=CPD(parents=[ParentRelationship(name='faculty_hours', relationship_type='linear', coefficients={'intercept': 10.0, 'slope': 0.5}), ParentRelationship(name='funding', relationship_type='linear', coefficients={'intercept': 5.0, 'slope': 0.3})], values=None)),\n",
       " Variable(name='funding', type='continuous', distribution='Gaussian', parameters={'mean': 500000.0, 'std_dev': 100000.0}, cpd=CPD(parents=[ParentRelationship(name='faculty_hours', relationship_type='exponential', coefficients={'a': 1.0, 'b': 0.02}), ParentRelationship(name='student_satisfaction', relationship_type='linear', coefficients={'intercept': 300000.0, 'slope': -50000.0})], values=None)),\n",
       " Variable(name='teaching_quality', type='continuous', distribution='Gaussian', parameters={'mean': 75.0, 'std_dev': 15.0}, cpd=CPD(parents=[ParentRelationship(name='faculty_satisfaction', relationship_type='linear', coefficients={'intercept': 50.0, 'slope': 0.6}), ParentRelationship(name='student_satisfaction', relationship_type='linear', coefficients={'intercept': 45.0, 'slope': 0.4})], values=None)),\n",
       " Variable(name='faculty_research_hours', type='continuous', distribution='Gaussian', parameters={'mean': 30.0, 'std_dev': 10.0}, cpd=CPD(parents=[ParentRelationship(name='research_output', relationship_type='linear', coefficients={'intercept': 5.0, 'slope': 0.2}), ParentRelationship(name='funding', relationship_type='linear', coefficients={'intercept': 0.0, 'slope': 0.3})], values=None)),\n",
       " Variable(name='student_performance', type='continuous', distribution='Gaussian', parameters={'mean': 80.0, 'std_dev': 10.0}, cpd=CPD(parents=[ParentRelationship(name='faculty_hours', relationship_type='linear', coefficients={'intercept': 60.0, 'slope': 0.4}), ParentRelationship(name='teaching_quality', relationship_type='linear', coefficients={'intercept': 50.0, 'slope': 0.3})], values=None)),\n",
       " Variable(name='collaboration_index', type='continuous', distribution='Gaussian', parameters={'mean': 0.5, 'std_dev': 0.2}, cpd=CPD(parents=[ParentRelationship(name='faculty_research_hours', relationship_type='exponential', coefficients={'a': 1.2, 'b': 0.15}), ParentRelationship(name='student_performance', relationship_type='linear', coefficients={'intercept': 0.3, 'slope': 0.2})], values=None)),\n",
       " Variable(name='department_reputation', type='continuous', distribution='Gaussian', parameters={'mean': 70.0, 'std_dev': 15.0}, cpd=CPD(parents=[ParentRelationship(name='research_output', relationship_type='linear', coefficients={'intercept': 40.0, 'slope': 0.5}), ParentRelationship(name='student_performance', relationship_type='linear', coefficients={'intercept': 30.0, 'slope': 0.3}), ParentRelationship(name='faculty_satisfaction', relationship_type='linear', coefficients={'intercept': 50.0, 'slope': 0.2})], values=None))]"
      ]
     },
     "execution_count": 2,
     "metadata": {},
     "output_type": "execute_result"
    }
   ],
   "source": [
    "variables"
   ]
  },
  {
   "cell_type": "code",
   "execution_count": 3,
   "id": "12e8a593-0126-45d8-bb25-4208cd83bfc7",
   "metadata": {},
   "outputs": [
    {
     "name": "stdout",
     "output_type": "stream",
     "text": [
      "variable is name='faculty_hours' type='continuous' distribution='Gaussian' parameters={'mean': 40.0, 'std_dev': 3.0} cpd=None with cpd : P(faculty_hours) = N(40.0; 3.0)\n",
      "variable is name='faculty_satisfaction' type='continuous' distribution='Gaussian' parameters={'mean': 60.0, 'std_dev': 10.0} cpd=CPD(parents=[ParentRelationship(name='faculty_hours', relationship_type='exponential', coefficients={'a': 60.0, 'b': -0.02})], values=None) with cpd : P(faculty_satisfaction) = N(60.0; 10.0)\n",
      "variable is name='student_satisfaction' type='continuous' distribution='Gaussian' parameters={'mean': 70.0, 'std_dev': 15.0} cpd=CPD(parents=[ParentRelationship(name='faculty_hours', relationship_type='linear', coefficients={'intercept': 50.0, 'slope': -0.5}), ParentRelationship(name='faculty_satisfaction', relationship_type='linear', coefficients={'intercept': 70.0, 'slope': 0.3})], values=None) with cpd : P(student_satisfaction) = N(70.0; 15.0)\n",
      "Unsupported distribution type: LinearGaussian\n",
      "variable is name='funding' type='continuous' distribution='Gaussian' parameters={'mean': 500000.0, 'std_dev': 100000.0} cpd=CPD(parents=[ParentRelationship(name='faculty_hours', relationship_type='exponential', coefficients={'a': 1.0, 'b': 0.02}), ParentRelationship(name='student_satisfaction', relationship_type='linear', coefficients={'intercept': 300000.0, 'slope': -50000.0})], values=None) with cpd : P(funding) = N(500000.0; 100000.0)\n",
      "variable is name='teaching_quality' type='continuous' distribution='Gaussian' parameters={'mean': 75.0, 'std_dev': 15.0} cpd=CPD(parents=[ParentRelationship(name='faculty_satisfaction', relationship_type='linear', coefficients={'intercept': 50.0, 'slope': 0.6}), ParentRelationship(name='student_satisfaction', relationship_type='linear', coefficients={'intercept': 45.0, 'slope': 0.4})], values=None) with cpd : P(teaching_quality) = N(75.0; 15.0)\n",
      "variable is name='faculty_research_hours' type='continuous' distribution='Gaussian' parameters={'mean': 30.0, 'std_dev': 10.0} cpd=CPD(parents=[ParentRelationship(name='research_output', relationship_type='linear', coefficients={'intercept': 5.0, 'slope': 0.2}), ParentRelationship(name='funding', relationship_type='linear', coefficients={'intercept': 0.0, 'slope': 0.3})], values=None) with cpd : P(faculty_research_hours) = N(30.0; 10.0)\n",
      "variable is name='student_performance' type='continuous' distribution='Gaussian' parameters={'mean': 80.0, 'std_dev': 10.0} cpd=CPD(parents=[ParentRelationship(name='faculty_hours', relationship_type='linear', coefficients={'intercept': 60.0, 'slope': 0.4}), ParentRelationship(name='teaching_quality', relationship_type='linear', coefficients={'intercept': 50.0, 'slope': 0.3})], values=None) with cpd : P(student_performance) = N(80.0; 10.0)\n",
      "variable is name='collaboration_index' type='continuous' distribution='Gaussian' parameters={'mean': 0.5, 'std_dev': 0.2} cpd=CPD(parents=[ParentRelationship(name='faculty_research_hours', relationship_type='exponential', coefficients={'a': 1.2, 'b': 0.15}), ParentRelationship(name='student_performance', relationship_type='linear', coefficients={'intercept': 0.3, 'slope': 0.2})], values=None) with cpd : P(collaboration_index) = N(0.5; 0.2)\n",
      "variable is name='department_reputation' type='continuous' distribution='Gaussian' parameters={'mean': 70.0, 'std_dev': 15.0} cpd=CPD(parents=[ParentRelationship(name='research_output', relationship_type='linear', coefficients={'intercept': 40.0, 'slope': 0.5}), ParentRelationship(name='student_performance', relationship_type='linear', coefficients={'intercept': 30.0, 'slope': 0.3}), ParentRelationship(name='faculty_satisfaction', relationship_type='linear', coefficients={'intercept': 50.0, 'slope': 0.2})], values=None) with cpd : P(department_reputation) = N(70.0; 15.0)\n"
     ]
    },
    {
     "ename": "ValueError",
     "evalue": "Only TabularCPD or ContinuousFactor can be added.",
     "output_type": "error",
     "traceback": [
      "\u001b[0;31m---------------------------------------------------------------------------\u001b[0m",
      "\u001b[0;31mValueError\u001b[0m                                Traceback (most recent call last)",
      "Cell \u001b[0;32mIn[3], line 3\u001b[0m\n\u001b[1;32m      1\u001b[0m \u001b[38;5;66;03m# Build Bayesian Network\u001b[39;00m\n\u001b[1;32m      2\u001b[0m network_model \u001b[38;5;241m=\u001b[39m BayesianNetworkModel(variables)\n\u001b[0;32m----> 3\u001b[0m \u001b[43mnetwork_model\u001b[49m\u001b[38;5;241;43m.\u001b[39;49m\u001b[43minitialize\u001b[49m\u001b[43m(\u001b[49m\u001b[43m)\u001b[49m\n",
      "File \u001b[0;32m~/mtp/bayesian_network.py:23\u001b[0m, in \u001b[0;36mBayesianNetworkModel.initialize\u001b[0;34m(self)\u001b[0m\n\u001b[1;32m     21\u001b[0m \u001b[38;5;28;01mdef\u001b[39;00m \u001b[38;5;21minitialize\u001b[39m(\u001b[38;5;28mself\u001b[39m):\n\u001b[1;32m     22\u001b[0m     \u001b[38;5;28mself\u001b[39m\u001b[38;5;241m.\u001b[39mbuild_network_structure()\n\u001b[0;32m---> 23\u001b[0m     \u001b[38;5;28;43mself\u001b[39;49m\u001b[38;5;241;43m.\u001b[39;49m\u001b[43madd_cpds\u001b[49m\u001b[43m(\u001b[49m\u001b[43m)\u001b[49m\n\u001b[1;32m     24\u001b[0m     \u001b[38;5;28mself\u001b[39m\u001b[38;5;241m.\u001b[39mnetwork\u001b[38;5;241m.\u001b[39mcheck_model()\n",
      "File \u001b[0;32m~/mtp/bayesian_network.py:19\u001b[0m, in \u001b[0;36mBayesianNetworkModel.add_cpds\u001b[0;34m(self)\u001b[0m\n\u001b[1;32m     17\u001b[0m \u001b[38;5;28mself\u001b[39m\u001b[38;5;241m.\u001b[39mcpds \u001b[38;5;241m=\u001b[39m cpd_builder\u001b[38;5;241m.\u001b[39mbuild_all_cpds()\n\u001b[1;32m     18\u001b[0m \u001b[38;5;28;01mfor\u001b[39;00m cpd \u001b[38;5;129;01min\u001b[39;00m \u001b[38;5;28mself\u001b[39m\u001b[38;5;241m.\u001b[39mcpds\u001b[38;5;241m.\u001b[39mvalues():\n\u001b[0;32m---> 19\u001b[0m     \u001b[38;5;28;43mself\u001b[39;49m\u001b[38;5;241;43m.\u001b[39;49m\u001b[43mnetwork\u001b[49m\u001b[38;5;241;43m.\u001b[39;49m\u001b[43madd_cpds\u001b[49m\u001b[43m(\u001b[49m\u001b[43mcpd\u001b[49m\u001b[43m)\u001b[49m\n",
      "File \u001b[0;32m~/.pyenv/versions/mtp/lib/python3.8/site-packages/pgmpy/models/BayesianNetwork.py:256\u001b[0m, in \u001b[0;36mBayesianNetwork.add_cpds\u001b[0;34m(self, *cpds)\u001b[0m\n\u001b[1;32m    254\u001b[0m \u001b[38;5;28;01mfor\u001b[39;00m cpd \u001b[38;5;129;01min\u001b[39;00m cpds:\n\u001b[1;32m    255\u001b[0m     \u001b[38;5;28;01mif\u001b[39;00m \u001b[38;5;129;01mnot\u001b[39;00m \u001b[38;5;28misinstance\u001b[39m(cpd, (TabularCPD, ContinuousFactor)):\n\u001b[0;32m--> 256\u001b[0m         \u001b[38;5;28;01mraise\u001b[39;00m \u001b[38;5;167;01mValueError\u001b[39;00m(\u001b[38;5;124m\"\u001b[39m\u001b[38;5;124mOnly TabularCPD or ContinuousFactor can be added.\u001b[39m\u001b[38;5;124m\"\u001b[39m)\n\u001b[1;32m    258\u001b[0m     \u001b[38;5;28;01mif\u001b[39;00m \u001b[38;5;28mset\u001b[39m(cpd\u001b[38;5;241m.\u001b[39mscope()) \u001b[38;5;241m-\u001b[39m \u001b[38;5;28mset\u001b[39m(cpd\u001b[38;5;241m.\u001b[39mscope())\u001b[38;5;241m.\u001b[39mintersection(\u001b[38;5;28mset\u001b[39m(\u001b[38;5;28mself\u001b[39m\u001b[38;5;241m.\u001b[39mnodes())):\n\u001b[1;32m    259\u001b[0m         \u001b[38;5;28;01mraise\u001b[39;00m \u001b[38;5;167;01mValueError\u001b[39;00m(\u001b[38;5;124m\"\u001b[39m\u001b[38;5;124mCPD defined on variable not in the model\u001b[39m\u001b[38;5;124m\"\u001b[39m, cpd)\n",
      "\u001b[0;31mValueError\u001b[0m: Only TabularCPD or ContinuousFactor can be added."
     ]
    }
   ],
   "source": [
    "# Build Bayesian Network\n",
    "network_model = BayesianNetworkModel(variables)\n",
    "network_model.initialize()"
   ]
  },
  {
   "cell_type": "code",
   "execution_count": null,
   "id": "f37fac63-37bc-4a2e-a3b6-900e884589c5",
   "metadata": {},
   "outputs": [],
   "source": [
    "from pgmpy.factors.continuous import LinearGaussianCPD, ContinuousFactor\n",
    "ContinuousFactor??"
   ]
  },
  {
   "cell_type": "code",
   "execution_count": 6,
   "id": "f362c9bd-998e-415a-a2d7-564727085b97",
   "metadata": {},
   "outputs": [
    {
     "data": {
      "text/plain": [
       "\u001b[0;31mInit signature:\u001b[0m \u001b[0mBayesianNetworkModel\u001b[0m\u001b[0;34m(\u001b[0m\u001b[0mvariables\u001b[0m\u001b[0;34m)\u001b[0m\u001b[0;34m\u001b[0m\u001b[0;34m\u001b[0m\u001b[0m\n",
       "\u001b[0;31mDocstring:\u001b[0m      <no docstring>\n",
       "\u001b[0;31mSource:\u001b[0m        \n",
       "\u001b[0;32mclass\u001b[0m \u001b[0mBayesianNetworkModel\u001b[0m\u001b[0;34m:\u001b[0m\u001b[0;34m\u001b[0m\n",
       "\u001b[0;34m\u001b[0m    \u001b[0;32mdef\u001b[0m \u001b[0m__init__\u001b[0m\u001b[0;34m(\u001b[0m\u001b[0mself\u001b[0m\u001b[0;34m,\u001b[0m \u001b[0mvariables\u001b[0m\u001b[0;34m)\u001b[0m\u001b[0;34m:\u001b[0m\u001b[0;34m\u001b[0m\n",
       "\u001b[0;34m\u001b[0m        \u001b[0mself\u001b[0m\u001b[0;34m.\u001b[0m\u001b[0mvariables\u001b[0m \u001b[0;34m=\u001b[0m \u001b[0mvariables\u001b[0m\u001b[0;34m\u001b[0m\n",
       "\u001b[0;34m\u001b[0m        \u001b[0mself\u001b[0m\u001b[0;34m.\u001b[0m\u001b[0mnetwork\u001b[0m \u001b[0;34m=\u001b[0m \u001b[0mBayesianNetwork\u001b[0m\u001b[0;34m(\u001b[0m\u001b[0;34m)\u001b[0m\u001b[0;34m\u001b[0m\n",
       "\u001b[0;34m\u001b[0m        \u001b[0mself\u001b[0m\u001b[0;34m.\u001b[0m\u001b[0mcpds\u001b[0m \u001b[0;34m=\u001b[0m \u001b[0;32mNone\u001b[0m\u001b[0;34m\u001b[0m\n",
       "\u001b[0;34m\u001b[0m\u001b[0;34m\u001b[0m\n",
       "\u001b[0;34m\u001b[0m    \u001b[0;32mdef\u001b[0m \u001b[0mbuild_network_structure\u001b[0m\u001b[0;34m(\u001b[0m\u001b[0mself\u001b[0m\u001b[0;34m)\u001b[0m\u001b[0;34m:\u001b[0m\u001b[0;34m\u001b[0m\n",
       "\u001b[0;34m\u001b[0m        \u001b[0;32mfor\u001b[0m \u001b[0mvar\u001b[0m \u001b[0;32min\u001b[0m \u001b[0mself\u001b[0m\u001b[0;34m.\u001b[0m\u001b[0mvariables\u001b[0m\u001b[0;34m:\u001b[0m\u001b[0;34m\u001b[0m\n",
       "\u001b[0;34m\u001b[0m            \u001b[0;32mfor\u001b[0m \u001b[0mparent\u001b[0m \u001b[0;32min\u001b[0m \u001b[0;34m(\u001b[0m\u001b[0mvar\u001b[0m\u001b[0;34m.\u001b[0m\u001b[0mcpd\u001b[0m\u001b[0;34m.\u001b[0m\u001b[0mparents\u001b[0m \u001b[0;32mif\u001b[0m \u001b[0mvar\u001b[0m\u001b[0;34m.\u001b[0m\u001b[0mcpd\u001b[0m \u001b[0;32melse\u001b[0m \u001b[0;34m[\u001b[0m\u001b[0;34m]\u001b[0m\u001b[0;34m)\u001b[0m\u001b[0;34m:\u001b[0m\u001b[0;34m\u001b[0m\n",
       "\u001b[0;34m\u001b[0m                \u001b[0mself\u001b[0m\u001b[0;34m.\u001b[0m\u001b[0mnetwork\u001b[0m\u001b[0;34m.\u001b[0m\u001b[0madd_edge\u001b[0m\u001b[0;34m(\u001b[0m\u001b[0mparent\u001b[0m\u001b[0;34m.\u001b[0m\u001b[0mname\u001b[0m\u001b[0;34m,\u001b[0m \u001b[0mvar\u001b[0m\u001b[0;34m.\u001b[0m\u001b[0mname\u001b[0m\u001b[0;34m)\u001b[0m\u001b[0;34m\u001b[0m\n",
       "\u001b[0;34m\u001b[0m\u001b[0;34m\u001b[0m\n",
       "\u001b[0;34m\u001b[0m    \u001b[0;32mdef\u001b[0m \u001b[0madd_cpds\u001b[0m\u001b[0;34m(\u001b[0m\u001b[0mself\u001b[0m\u001b[0;34m)\u001b[0m\u001b[0;34m:\u001b[0m\u001b[0;34m\u001b[0m\n",
       "\u001b[0;34m\u001b[0m        \u001b[0mcpd_builder\u001b[0m \u001b[0;34m=\u001b[0m \u001b[0mCPDBuilder\u001b[0m\u001b[0;34m(\u001b[0m\u001b[0mself\u001b[0m\u001b[0;34m.\u001b[0m\u001b[0mvariables\u001b[0m\u001b[0;34m)\u001b[0m\u001b[0;34m\u001b[0m\n",
       "\u001b[0;34m\u001b[0m        \u001b[0mself\u001b[0m\u001b[0;34m.\u001b[0m\u001b[0mcpds\u001b[0m \u001b[0;34m=\u001b[0m \u001b[0mcpd_builder\u001b[0m\u001b[0;34m.\u001b[0m\u001b[0mbuild_all_cpds\u001b[0m\u001b[0;34m(\u001b[0m\u001b[0;34m)\u001b[0m\u001b[0;34m\u001b[0m\n",
       "\u001b[0;34m\u001b[0m        \u001b[0;32mfor\u001b[0m \u001b[0mcpd\u001b[0m \u001b[0;32min\u001b[0m \u001b[0mself\u001b[0m\u001b[0;34m.\u001b[0m\u001b[0mcpds\u001b[0m\u001b[0;34m.\u001b[0m\u001b[0mvalues\u001b[0m\u001b[0;34m(\u001b[0m\u001b[0;34m)\u001b[0m\u001b[0;34m:\u001b[0m\u001b[0;34m\u001b[0m\n",
       "\u001b[0;34m\u001b[0m            \u001b[0mself\u001b[0m\u001b[0;34m.\u001b[0m\u001b[0mnetwork\u001b[0m\u001b[0;34m.\u001b[0m\u001b[0madd_cpds\u001b[0m\u001b[0;34m(\u001b[0m\u001b[0mcpd\u001b[0m\u001b[0;34m)\u001b[0m\u001b[0;34m\u001b[0m\n",
       "\u001b[0;34m\u001b[0m\u001b[0;34m\u001b[0m\n",
       "\u001b[0;34m\u001b[0m    \u001b[0;32mdef\u001b[0m \u001b[0minitialize\u001b[0m\u001b[0;34m(\u001b[0m\u001b[0mself\u001b[0m\u001b[0;34m)\u001b[0m\u001b[0;34m:\u001b[0m\u001b[0;34m\u001b[0m\n",
       "\u001b[0;34m\u001b[0m        \u001b[0mself\u001b[0m\u001b[0;34m.\u001b[0m\u001b[0mbuild_network_structure\u001b[0m\u001b[0;34m(\u001b[0m\u001b[0;34m)\u001b[0m\u001b[0;34m\u001b[0m\n",
       "\u001b[0;34m\u001b[0m        \u001b[0mself\u001b[0m\u001b[0;34m.\u001b[0m\u001b[0madd_cpds\u001b[0m\u001b[0;34m(\u001b[0m\u001b[0;34m)\u001b[0m\u001b[0;34m\u001b[0m\n",
       "\u001b[0;34m\u001b[0m        \u001b[0mself\u001b[0m\u001b[0;34m.\u001b[0m\u001b[0mnetwork\u001b[0m\u001b[0;34m.\u001b[0m\u001b[0mcheck_model\u001b[0m\u001b[0;34m(\u001b[0m\u001b[0;34m)\u001b[0m\u001b[0;34m\u001b[0m\u001b[0;34m\u001b[0m\u001b[0m\n",
       "\u001b[0;31mFile:\u001b[0m           ~/mtp/bayesian_network.py\n",
       "\u001b[0;31mType:\u001b[0m           type\n",
       "\u001b[0;31mSubclasses:\u001b[0m     "
      ]
     },
     "metadata": {},
     "output_type": "display_data"
    }
   ],
   "source": [
    "x = BayesianNetworkModel??"
   ]
  },
  {
   "cell_type": "code",
   "execution_count": null,
   "id": "71d7f8df-5b6e-4792-bc71-8ada52e84a38",
   "metadata": {},
   "outputs": [],
   "source": [
    "from pgmpy import "
   ]
  }
 ],
 "metadata": {
  "kernelspec": {
   "display_name": "mtp",
   "language": "python",
   "name": "mtp"
  },
  "language_info": {
   "codemirror_mode": {
    "name": "ipython",
    "version": 3
   },
   "file_extension": ".py",
   "mimetype": "text/x-python",
   "name": "python",
   "nbconvert_exporter": "python",
   "pygments_lexer": "ipython3",
   "version": "3.8.12"
  }
 },
 "nbformat": 4,
 "nbformat_minor": 5
}
